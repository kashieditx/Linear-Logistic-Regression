{
  "nbformat": 4,
  "nbformat_minor": 0,
  "metadata": {
    "colab": {
      "provenance": []
    },
    "kernelspec": {
      "name": "python3",
      "display_name": "Python 3"
    },
    "language_info": {
      "name": "python"
    }
  },
  "cells": [
    {
      "cell_type": "markdown",
      "source": [
        "\n",
        "\n",
        "```\n",
        "# This is formatted as code\n",
        "```\n",
        "\n",
        "# Importing libraries"
      ],
      "metadata": {
        "id": "M_HjsP7gs-L8"
      }
    },
    {
      "cell_type": "code",
      "execution_count": 32,
      "metadata": {
        "id": "zAWL2LWms5Hb"
      },
      "outputs": [],
      "source": [
        "import pandas as pd\n",
        "import numpy as np\n",
        "import matplotlib.pyplot as plt\n"
      ]
    },
    {
      "cell_type": "markdown",
      "source": [
        "**Loading the Boston Housing dataset using pandas**"
      ],
      "metadata": {
        "id": "BS8tzc1ctUdJ"
      }
    },
    {
      "cell_type": "code",
      "source": [
        "\n",
        "\n",
        "# read the data from the file into a DataFrame\n",
        "df = pd.read_csv('housing.data', header=None, delim_whitespace=True)\n",
        "\n",
        "\n"
      ],
      "metadata": {
        "id": "GhtXF5Geta7F"
      },
      "execution_count": 33,
      "outputs": []
    },
    {
      "cell_type": "markdown",
      "source": [
        "Rename the columns of the dataset "
      ],
      "metadata": {
        "id": "2PspJezstkcy"
      }
    },
    {
      "cell_type": "code",
      "source": [
        "# add column names to the DataFrame\n",
        "df.columns = ['CRIM', 'ZN', 'INDUS', 'CHAS', 'NOX', 'RM', 'AGE', 'DIS', \n",
        "              'RAD', 'TAX', 'PTRATIO', 'B', 'LSTAT', 'MEDV']\n",
        "\n",
        "# print the first 5 rows of the DataFrame to verify that it was read correctly\n",
        "#print(df.head())\n"
      ],
      "metadata": {
        "id": "zl-W9G4ytfPj"
      },
      "execution_count": 34,
      "outputs": []
    },
    {
      "cell_type": "markdown",
      "source": [
        "**Split the dataset into a training set and a test set**\n",
        "80% of the data for training and the remaining 20% for testing"
      ],
      "metadata": {
        "id": "WQhu3jT2txhC"
      }
    },
    {
      "cell_type": "code",
      "source": [
        "from sklearn.model_selection import train_test_split\n",
        "\n",
        "# Load the data into a Pandas dataframe\n",
        "df = pd.read_csv('housing.data', delim_whitespace=True, header=None)\n",
        "\n",
        "# Set the column names\n",
        "df.columns = ['CRIM', 'ZN', 'INDUS', 'CHAS', 'NOX', 'RM', 'AGE', 'DIS', 'RAD', \n",
        "              'TAX', 'PTRATIO', 'B', 'LSTAT', 'MEDV']\n",
        "\n",
        "# Define the features and target variables\n",
        "X = df.iloc[:, :-1].values\n",
        "y = df.iloc[:, -1].values\n",
        "\n",
        "# Split the data into training and test sets\n",
        "X_train, X_test, y_train, y_test = train_test_split(X, y, test_size=0.2, random_state=0)"
      ],
      "metadata": {
        "id": "fXZV_VEFwATK"
      },
      "execution_count": 35,
      "outputs": []
    },
    {
      "cell_type": "markdown",
      "source": [
        "Implement linear regression using gradient descent to predict the MEDV"
      ],
      "metadata": {
        "id": "wdDe3w7ZuRmi"
      }
    },
    {
      "cell_type": "code",
      "source": [],
      "metadata": {
        "id": "heQr6Nw5wiLR"
      },
      "execution_count": null,
      "outputs": []
    },
    {
      "cell_type": "markdown",
      "source": [
        "\n",
        "\n",
        "1.   *A function to calculate the cost function.*\n",
        "2.   *A function to perform gradient descent.*\n",
        "3.   *A function to predict the MEDV given a set of input features.* \n",
        "\n",
        "\n"
      ],
      "metadata": {
        "id": "59OXTN42uYpy"
      }
    },
    {
      "cell_type": "code",
      "source": [
        "class LinearRegression:\n",
        "    def __init__(self, learning_rate=0.01, n_iters=1000):\n",
        "        self.lr = learning_rate\n",
        "        self.n_iters = n_iters\n",
        "        self.weights = None\n",
        "        self.bias = None\n",
        "\n",
        "    def fit(self, X, y):\n",
        "        # Initialize weights and bias to zeros\n",
        "        n_samples, n_features = X.shape\n",
        "        self.weights = np.zeros(n_features)\n",
        "        self.bias = 0\n",
        "\n",
        "        # Perform gradient descent\n",
        "        for _ in range(self.n_iters):\n",
        "            y_predicted = np.dot(X, self.weights) + self.bias\n",
        "            dw = (1 / n_samples) * np.dot(X.T, (y_predicted - y))\n",
        "            db = (1 / n_samples) * np.sum(y_predicted - y)\n",
        "\n",
        "            # Update weights and bias\n",
        "            self.weights -= self.lr * dw\n",
        "            self.bias -= self.lr * db\n",
        "\n",
        "    def predict(self, X):\n",
        "        y_predicted = np.dot(X, self.weights) + self.bias\n",
        "        return y_predicted\n",
        "\n",
        "    def mse(self, y_true, y_pred):\n",
        "        return np.mean((y_true - y_pred)**2)"
      ],
      "metadata": {
        "id": "DRSHoXQ_uPF0"
      },
      "execution_count": 36,
      "outputs": []
    },
    {
      "cell_type": "markdown",
      "source": [
        "**Train your linear regression model on the training set**\n",
        "\n",
        "*test set using the mean squared error (MSE) metric.*"
      ],
      "metadata": {
        "id": "3Tp4VSaFvInL"
      }
    },
    {
      "cell_type": "code",
      "source": [
        "# Train the linear regression model\n",
        "lr = LinearRegression()\n",
        "lr.fit(X_train, y_train)\n",
        "\n",
        "# Predict on the test set\n",
        "y_pred = lr.predict(X_test)\n",
        "# Evaluate the model using the mean squared error (MSE)\n",
        "mse = lr.mse(y_test, y_pred)\n",
        "print('Mean Squared Error:', mse)\n"
      ],
      "metadata": {
        "id": "4h1Ej8r_vB-b"
      },
      "execution_count": null,
      "outputs": []
    },
    {
      "cell_type": "code",
      "source": [
        "# Plot the predicted values vs. the actual values on the test set in a scatter plot.\n",
        "plt.scatter(y_test, y_pred)\n",
        "plt.xlabel('Actual Values')\n",
        "plt.ylabel('Predicted Values')\n",
        "plt.title('Actual vs. Predicted Values')\n",
        "plt.show()"
      ],
      "metadata": {
        "colab": {
          "base_uri": "https://localhost:8080/",
          "height": 472
        },
        "id": "tJDdpjDHvZ6L",
        "outputId": "ec2aac3e-a222-41e8-98c6-ad0b71e6898f"
      },
      "execution_count": 39,
      "outputs": [
        {
          "output_type": "display_data",
          "data": {
            "text/plain": [
              "<Figure size 640x480 with 1 Axes>"
            ],
            "image/png": "[encoded data removed]"
          },
          "metadata": {}
        }
      ]
    },
    {
      "cell_type": "markdown",
      "source": [
        "#Logistic Regression"
      ],
      "metadata": {
        "id": "s9FZur8l37Fe"
      }
    },
    {
      "cell_type": "markdown",
      "source": [
        "**load the data into a Pandas DataFrame**"
      ],
      "metadata": {
        "id": "8tTqnQNA3xgf"
      }
    },
    {
      "cell_type": "code",
      "source": [
        "\n",
        "\n",
        "# read the data from the file into a DataFrame\n",
        "df = pd.read_csv('housing.data', header=None, delim_whitespace=True)\n",
        "\n"
      ],
      "metadata": {
        "id": "5B4JS7Ig4A8Z"
      },
      "execution_count": 42,
      "outputs": []
    },
    {
      "cell_type": "markdown",
      "source": [
        "**Binarize the MEDV column by setting a threshold value**"
      ],
      "metadata": {
        "id": "uPrmjGWt4RbI"
      }
    },
    {
      "cell_type": "code",
      "source": [
        "threshold = df[13].median()\n",
        "df['target'] = (df[13] >= threshold).astype(int)\n"
      ],
      "metadata": {
        "id": "NFGy7bD64FEX"
      },
      "execution_count": 43,
      "outputs": []
    },
    {
      "cell_type": "markdown",
      "source": [
        "**Split the dataset into training and test sets**"
      ],
      "metadata": {
        "id": "PZpqCopg4jK-"
      }
    },
    {
      "cell_type": "code",
      "source": [
        "from sklearn.model_selection import train_test_split\n",
        "\n",
        "X = df.drop([13, 'target'], axis=1)\n",
        "y = df['target']\n",
        "\n",
        "X_train, X_test, y_train, y_test = train_test_split(X, y, test_size=0.2, random_state=42)\n"
      ],
      "metadata": {
        "id": "emC7P8ah4iC3"
      },
      "execution_count": 44,
      "outputs": []
    },
    {
      "cell_type": "markdown",
      "source": [
        "**Define the logistic regression model and the cost function**"
      ],
      "metadata": {
        "id": "Gwt_Y7dL4wxv"
      }
    },
    {
      "cell_type": "code",
      "source": [
        "\n",
        "class LogisticRegression:\n",
        "    def __init__(self, lr=0.01, num_iter=100000, fit_intercept=True, verbose=False):\n",
        "        self.lr = lr\n",
        "        self.num_iter = num_iter\n",
        "        self.fit_intercept = fit_intercept\n",
        "        self.verbose = verbose\n",
        "    \n",
        "    def __add_intercept(self, X):\n",
        "        intercept = np.ones((X.shape[0], 1))\n",
        "        return np.concatenate((intercept, X), axis=1)\n",
        "    \n",
        "    def __sigmoid(self, z):\n",
        "        return 1 / (1 + np.exp(-z))\n",
        "    \n",
        "    def __loss(self, h, y):\n",
        "        return (-y * np.log(h) - (1 - y) * np.log(1 - h)).mean()\n",
        "    \n",
        "    def fit(self, X, y):\n",
        "        if self.fit_intercept:\n",
        "            X = self.__add_intercept(X)\n",
        "        \n",
        "        self.theta = np.zeros(X.shape[1])\n",
        "        \n",
        "        for i in range(self.num_iter):\n",
        "            z = np.dot(X, self.theta)\n",
        "            h = self.__sigmoid(z)\n",
        "            gradient = np.dot(X.T, (h - y)) / y.size\n",
        "            self.theta -= self.lr * gradient\n",
        "            \n",
        "            if(self.verbose == True and i % 10000 == 0):\n",
        "                z = np.dot(X, self.theta)\n",
        "                h = self.__sigmoid(z)\n",
        "                print(f'loss: {self.__loss(h, y)} \\t')\n",
        "    \n",
        "    def predict_proba(self, X):\n",
        "        if self.fit_intercept:\n",
        "            X = self.__add_intercept(X)\n",
        "    \n",
        "        return self.__sigmoid(np.dot(X, self.theta))\n",
        "    \n",
        "    def predict(self, X, threshold=0.5):\n",
        "        return (self.predict_proba(X) >= threshold).astype(int)\n"
      ],
      "metadata": {
        "id": "T3QMplHX4qZ2"
      },
      "execution_count": 45,
      "outputs": []
    },
    {
      "cell_type": "markdown",
      "source": [
        "**Train the logistic regression model on the training set and evaluate its performance on the test set**"
      ],
      "metadata": {
        "id": "r9A492S045R_"
      }
    },
    {
      "cell_type": "code",
      "source": [
        "lr = LogisticRegression()\n",
        "lr.fit(X_train, y_train)\n",
        "y_pred = lr.predict(X_test)\n",
        "accuracy = (y_pred == y_test).mean()\n",
        "print('Accuracy:', accuracy)\n"
      ],
      "metadata": {
        "colab": {
          "base_uri": "https://localhost:8080/"
        },
        "id": "8AHWC54m4302",
        "outputId": "eaccb67d-b088-4f9a-a2bd-14cb248dcc3f"
      },
      "execution_count": 46,
      "outputs": [
        {
          "output_type": "stream",
          "name": "stderr",
          "text": [
            "<ipython-input-45-0ad3923c0498>:13: RuntimeWarning: overflow encountered in exp\n",
            "  return 1 / (1 + np.exp(-z))\n"
          ]
        },
        {
          "output_type": "stream",
          "name": "stdout",
          "text": [
            "Accuracy: 0.7156862745098039\n"
          ]
        }
      ]
    },
    {
      "cell_type": "markdown",
      "source": [
        "**Plot the decision boundary of the logistic regression model**"
      ],
      "metadata": {
        "id": "EI9kCZ5F5DyP"
      }
    },
    {
      "cell_type": "code",
      "source": [
        "import matplotlib.pyplot as plt\n",
        "\n",
        "plt.scatter(X_test.iloc[:, 0], X_test.iloc[:, 1], c=y_pred)\n",
        "plt.xlabel('Feature 0')\n",
        "plt.ylabel('Feature 1')\n",
        "plt.title('Decision Boundary')\n",
        "plt.show()\n"
      ],
      "metadata": {
        "colab": {
          "base_uri": "https://localhost:8080/",
          "height": 472
        },
        "id": "8AA8gRUD5Ao_",
        "outputId": "e5dff8f7-a73b-454e-88b7-d35a560340e8"
      },
      "execution_count": 47,
      "outputs": [
        {
          "output_type": "display_data",
          "data": {
            "text/plain": [
              "<Figure size 640x480 with 1 Axes>"
            ],
            "image/png": "[encoded data removed]"
          },
          "metadata": {}
        }
      ]
    },
    {
      "cell_type": "code",
      "source": [],
      "metadata": {
        "id": "2IZivies5JF3"
      },
      "execution_count": null,
      "outputs": []
    }
  ]
}