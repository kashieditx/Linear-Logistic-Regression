{
  "cells": [
    {
      "cell_type": "markdown",
      "metadata": {
        "id": "iH7UlycgMIPE"
      },
      "source": [
        "* ML Assignment 02\n",
        "* Muhammad Muaaz Shoaib\n",
        "* FA20-BCS-074"
      ]
    },
    {
      "cell_type": "markdown",
      "metadata": {
        "id": "7cwgrdxlNDnr"
      },
      "source": [
        "# Programming Assignment: Linear and Logistic Regression\n",
        "\n",
        "In this assignment, you will be implementing linear regression and logistic regression from scratch using Python. You will be provided with a dataset and you will use these models to perform regression analysis on the dataset.\n",
        "## Dataset\n",
        "\n",
        "The dataset that you will be using is the Boston Housing Dataset. This dataset contains information about the housing values in suburbs of Boston. Each row in the dataset represents a suburb, and there are 14 columns:\n",
        "\n",
        "*\tCRIM: Per capita crime rate by town.\n",
        "*\tZN: Proportion of residential land zoned for lots over 25,000 square feet.\n",
        "*\tINDUS: Proportion of non-retail business acres per town.\n",
        "*\tCHAS: Charles River dummy variable (= 1 if tract bounds river; 0 otherwise).\n",
        "*\tNOX: Nitric oxides concentration (parts per 10 million).\n",
        "*\tRM: Average number of rooms per dwelling.\n",
        "*\tAGE: Proportion of owner-occupied units built prior to 1940.\n",
        "*\tDIS: Weighted distances to five Boston employment centres.\n",
        "*\tRAD: Index of accessibility to radial highways.\n",
        "*\tTAX: Full-value property-tax rate per 10,000 USD.\n",
        "*\tPTRATIO: Pupil-teacher ratio by town.\n",
        "*\tB: 1000(Bk - 0.63)^2 where Bk is the proportion of blacks by town.\n",
        "*\tLSTAT: % lower status of the population.\n",
        "*\tMEDV: Median value of owner-occupied homes in $1000's.\n",
        "\n",
        "The goal of this assignment is to predict the median value of owner-occupied homes (MEDV) using the other 13 features.\n"
      ]
    },
    {
      "cell_type": "markdown",
      "metadata": {
        "id": "ugfkDUyvNLy8"
      },
      "source": [
        "## Part 1: Linear Regression\n",
        "### 1.\tImplement linear regression using gradient descent to predict the MEDV. Your implementation should include the following:\n",
        "\n",
        "*\tA function to calculate the cost function.\n",
        "*\tA function to perform gradient descent.\n",
        "*\tA function to predict the MEDV given a set of input features.\n"
      ]
    },
    {
      "cell_type": "code",
      "source": [
        "# A function to calculate the cost function\n",
        "import numpy as np\n",
        "\n",
        "def cost(features, target, theta):\n",
        "    total_number_of_samples = len(target)\n",
        "    predictions = features.dot(theta)\n",
        "    cost = 1/(2 * total_number_of_samples) * np.sum(np.square(predictions - target))\n",
        "    return cost"
      ],
      "metadata": {
        "id": "zz5OKZ2V6Vh0"
      },
      "execution_count": 68,
      "outputs": []
    },
    {
      "cell_type": "code",
      "source": [
        "# A function to perform gradient descent.\n",
        "import numpy as np\n",
        "\n",
        "def gradient_descent(features, target, theta, alpha, number_of_iterations):\n",
        "    total_number_of_samples = len(target)\n",
        "    cost_history = np.zeros(number_of_iterations)\n",
        "    for i in range(number_of_iterations):\n",
        "        predictions = features.dot(theta)\n",
        "        loss = predictions - target\n",
        "\n",
        "        theta = theta - alpha * (1 / total_number_of_samples) * (features.T.dot(loss))\n",
        "        cost_history[i] = cost(features, target, theta)\n",
        "\n",
        "    return theta, cost_history   "
      ],
      "metadata": {
        "id": "MSEMadkn66Ma"
      },
      "execution_count": 69,
      "outputs": []
    },
    {
      "cell_type": "code",
      "source": [
        "# A function to predict the MEDV given a set of input features.\n",
        "def predict_medv(features, theta):\n",
        "     predictions = features.dot(theta)\n",
        "     return predictions"
      ],
      "metadata": {
        "id": "8Yoz18MU7dBf"
      },
      "execution_count": 70,
      "outputs": []
    },
    {
      "cell_type": "markdown",
      "metadata": {
        "id": "zR7_bD3EYdES"
      },
      "source": [
        "### 2.\tSplit the dataset into a training set and a test set. Use 80% of the data for training and the remaining 20% for testing."
      ]
    },
    {
      "cell_type": "code",
      "source": [
        "# Downlaod the `Boston Housing Dataset` \n",
        "!wget https://raw.githubusercontent.com/selva86/datasets/master/BostonHousing.csv\n",
        "\n",
        "import pandas as pd\n",
        "from sklearn.model_selection import train_test_split\n",
        "\n",
        "df = pd.read_csv('BostonHousing.csv')\n",
        "\n",
        "features = df.drop(['medv'], axis=1)\n",
        "target = df['medv']\n",
        "\n",
        "features_train, features_test, target_train, target_test = train_test_split(features, \n",
        "                                                                            target, \n",
        "                                                                            test_size=0.2)\n",
        "\n",
        "len(features_train), len(features_test), len(target_train), len(target_test)"
      ],
      "metadata": {
        "colab": {
          "base_uri": "https://localhost:8080/"
        },
        "id": "x9SI1X-A8dNn",
        "outputId": "72c44168-2842-4285-a87a-c6070c4f1a90"
      },
      "execution_count": 71,
      "outputs": [
        {
          "output_type": "stream",
          "name": "stdout",
          "text": [
            "--2023-04-12 20:03:35--  https://raw.githubusercontent.com/selva86/datasets/master/BostonHousing.csv\n",
            "Resolving raw.githubusercontent.com (raw.githubusercontent.com)... 185.199.110.133, 185.199.108.133, 185.199.109.133, ...\n",
            "Connecting to raw.githubusercontent.com (raw.githubusercontent.com)|185.199.110.133|:443... connected.\n",
            "HTTP request sent, awaiting response... 200 OK\n",
            "Length: 35735 (35K) [text/plain]\n",
            "Saving to: ‘BostonHousing.csv.11’\n",
            "\n",
            "\rBostonHousing.csv.1   0%[                    ]       0  --.-KB/s               \rBostonHousing.csv.1 100%[===================>]  34.90K  --.-KB/s    in 0.004s  \n",
            "\n",
            "2023-04-12 20:03:35 (9.57 MB/s) - ‘BostonHousing.csv.11’ saved [35735/35735]\n",
            "\n"
          ]
        },
        {
          "output_type": "execute_result",
          "data": {
            "text/plain": [
              "(404, 102, 404, 102)"
            ]
          },
          "metadata": {},
          "execution_count": 71
        }
      ]
    },
    {
      "cell_type": "markdown",
      "metadata": {
        "id": "kYMoxpehZnI4"
      },
      "source": [
        "### 3.\tTrain your linear regression model on the training set and evaluate its performance on the test set using the mean squared error (MSE) metric. Report the MSE value."
      ]
    },
    {
      "cell_type": "code",
      "source": [
        "from sklearn.metrics import mean_squared_error\n",
        "\n",
        "# Normalize to get the same scale of all values\n",
        "features_train_normalize = (features_train - np.mean(features_train, axis=0))/np.std(features_train, axis=0)\n",
        "features_train_normalize = np.hstack((np.ones((features_train_normalize.shape[0],1)),features_train_normalize))\n",
        "\n",
        "theta = np.zeros(features_train_normalize.shape[1])\n",
        "\n",
        "theta, cost_hist = gradient_descent(features_train_normalize,\n",
        "                                    target_train,\n",
        "                                    theta,\n",
        "                                    alpha=0.01,\n",
        "                                    number_of_iterations=1000)\n",
        "\n",
        "# Mean Squared Error\n",
        "features_test_normalize = (features_test - np.mean(features_train, axis=0))/np.std(features_train, axis=0)\n",
        "features_test_normalize = np.hstack((np.ones((features_test_normalize.shape[0],1)),features_test_normalize))\n",
        "target_predictions = features_test_normalize.dot(theta)\n",
        "mean_squared_error = mean_squared_error(target_test, target_predictions)\n",
        "\n",
        "print('Mean Squared Error: ', mean_squared_error)"
      ],
      "metadata": {
        "id": "mLrQ28egFZz_",
        "colab": {
          "base_uri": "https://localhost:8080/"
        },
        "outputId": "0be89cbf-f39c-4e3f-ea7f-47a911d16190"
      },
      "execution_count": 72,
      "outputs": [
        {
          "output_type": "stream",
          "name": "stdout",
          "text": [
            "Mean Squared Error:  26.135960412412764\n"
          ]
        }
      ]
    },
    {
      "cell_type": "markdown",
      "metadata": {
        "id": "5BctHU4rZ1BV"
      },
      "source": [
        "### 4.\tPlot the predicted values vs. the actual values on the test set in a scatter plot."
      ]
    },
    {
      "cell_type": "code",
      "source": [
        "import matplotlib.pyplot as plt\n",
        "\n",
        "# Plot the predicted values versus the actual values on the test set\n",
        "plt.scatter(target_test, target_predictions)\n",
        "plt.plot(target_test, target_test, color='red')\n",
        "plt.xlabel(\"Actual Values\")\n",
        "plt.ylabel(\"Predicted Values\")\n",
        "plt.title(\"Actual versus Predicted Values\")\n",
        "plt.show()"
      ],
      "metadata": {
        "colab": {
          "base_uri": "https://localhost:8080/",
          "height": 472
        },
        "id": "thRpOHKcFb6n",
        "outputId": "7a67d8b1-e747-4d76-d484-9d4ffe03ee25"
      },
      "execution_count": 73,
      "outputs": [
        {
          "output_type": "display_data",
          "data": {
            "text/plain": [
              "<Figure size 640x480 with 1 Axes>"
            ],
            "image/png": "[encoded data removed]"
          },
          "metadata": {}
        }
      ]
    },
    {
      "cell_type": "markdown",
      "source": [
        "## Part 2: Logistic Regression\n",
        "\n",
        "### 2.\tSplit the dataset into a training set and a test set. Use 80% of the data for training and the remaining 20% for testing."
      ],
      "metadata": {
        "id": "0i5jESL0-J7s"
      }
    },
    {
      "cell_type": "code",
      "source": [
        "# Downlaod the `Boston Housing Dataset` \n",
        "!wget https://raw.githubusercontent.com/selva86/datasets/master/BostonHousing.csv\n",
        "\n",
        "import pandas as pd\n",
        "from sklearn.model_selection import train_test_split\n",
        "\n",
        "df = pd.read_csv('BostonHousing.csv')\n",
        "\n",
        "features = df.drop(['medv'], axis=1)\n",
        "target = df['medv']\n",
        "\n",
        "features_train, features_test, target_train, target_test = train_test_split(features, \n",
        "                                                                            target, \n",
        "                                                                            test_size=0.2)\n",
        "\n",
        "len(features_train), len(features_test), len(target_train), len(target_test)"
      ],
      "metadata": {
        "colab": {
          "base_uri": "https://localhost:8080/"
        },
        "id": "0c1NK281AQMP",
        "outputId": "ea4917cb-dbc4-4483-8aef-0bbbffb205fa"
      },
      "execution_count": 74,
      "outputs": [
        {
          "output_type": "stream",
          "name": "stdout",
          "text": [
            "--2023-04-12 20:03:37--  https://raw.githubusercontent.com/selva86/datasets/master/BostonHousing.csv\n",
            "Resolving raw.githubusercontent.com (raw.githubusercontent.com)... 185.199.108.133, 185.199.110.133, 185.199.109.133, ...\n",
            "Connecting to raw.githubusercontent.com (raw.githubusercontent.com)|185.199.108.133|:443... connected.\n",
            "HTTP request sent, awaiting response... 200 OK\n",
            "Length: 35735 (35K) [text/plain]\n",
            "Saving to: ‘BostonHousing.csv.12’\n",
            "\n",
            "\rBostonHousing.csv.1   0%[                    ]       0  --.-KB/s               \rBostonHousing.csv.1 100%[===================>]  34.90K  --.-KB/s    in 0.003s  \n",
            "\n",
            "2023-04-12 20:03:37 (10.6 MB/s) - ‘BostonHousing.csv.12’ saved [35735/35735]\n",
            "\n"
          ]
        },
        {
          "output_type": "execute_result",
          "data": {
            "text/plain": [
              "(404, 102, 404, 102)"
            ]
          },
          "metadata": {},
          "execution_count": 74
        }
      ]
    },
    {
      "cell_type": "markdown",
      "source": [
        "### 1. Implement logistic regression using gradient descent to predict whether a suburb has a high or low MEDV. To do this, you will need to binarize the MEDV column by setting a threshold value. If the MEDV is greater than or equal to the threshold value, the suburb is classified as having a high MEDV, otherwise it is classified as having a low MEDV."
      ],
      "metadata": {
        "id": "XQiAY5NYBBmk"
      }
    },
    {
      "cell_type": "code",
      "source": [
        "threshold = 21.2\n",
        "target_train = (target_train >= threshold).astype(int)\n",
        "target_test = (target_test >= threshold).astype(int)\n",
        "\n",
        "threshold, len(target_train), len(target_test)"
      ],
      "metadata": {
        "colab": {
          "base_uri": "https://localhost:8080/"
        },
        "id": "9WFcmKXJBQUg",
        "outputId": "ab98514f-75a9-4bed-a03e-8d0e8c4f84b0"
      },
      "execution_count": 75,
      "outputs": [
        {
          "output_type": "execute_result",
          "data": {
            "text/plain": [
              "(21.2, 404, 102)"
            ]
          },
          "metadata": {},
          "execution_count": 75
        }
      ]
    },
    {
      "cell_type": "markdown",
      "source": [
        "### 3.\tTrain your logistic regression model on the training set and evaluate its performance on the test set using the accuracy metric. Report the accuracy value."
      ],
      "metadata": {
        "id": "2bOtaVvt-PjE"
      }
    },
    {
      "cell_type": "code",
      "source": [
        "import numpy as np\n",
        "\n",
        "def sigmoid(z):\n",
        "  return 1/(1 + np.exp(-z))\n",
        "\n",
        "NUMBER_OF_ITERATIONS = 1000\n",
        "ALPHA = 0.01\n",
        "\n",
        "total_number_of_samples = len(target)\n",
        "\n",
        "# Normalize to get the same scale of all values\n",
        "features_train_normalize = (features_train - np.mean(features_train, axis=0))/np.std(features_train, axis=0)\n",
        "features_train_normalize = np.hstack((np.ones((features_train_normalize.shape[0],1)),features_train_normalize))\n",
        "\n",
        "for i in range(NUMBER_OF_ITERATIONS):\n",
        "  z = np.dot(features_train_normalize, theta)\n",
        "  h = sigmoid(z)\n",
        "  gradient = np.dot(features_train_normalize.T, (h - target_train)) / total_number_of_samples\n",
        "  theta -= ALPHA * gradient\n",
        "\n",
        "features_test_normalize = (features_test - np.mean(features_train, axis=0))/np.std(features_train, axis=0)\n",
        "features_test_normalize = np.hstack((np.ones((features_test_normalize.shape[0],1)),features_test_normalize))\n",
        "\n",
        "z_test = np.dot(features_test_normalize, theta)\n",
        "h_test = sigmoid(z_test)\n",
        "target_predictions = (h_test >= 0.5).astype(int)\n",
        "\n",
        "from sklearn.metrics import accuracy_score, confusion_matrix\n",
        "accuracy = accuracy_score(target_test, target_predictions)\n",
        "print(\"Accuracy: \", accuracy)"
      ],
      "metadata": {
        "colab": {
          "base_uri": "https://localhost:8080/"
        },
        "id": "FkeSaCik_SCk",
        "outputId": "5dcdf793-bdb5-4b07-ec8c-54ba59740af7"
      },
      "execution_count": 76,
      "outputs": [
        {
          "output_type": "stream",
          "name": "stdout",
          "text": [
            "Accuracy:  0.6176470588235294\n"
          ]
        }
      ]
    },
    {
      "cell_type": "markdown",
      "source": [
        "### 4.\tPlot the decision boundary of your logistic regression model in a scatter plot that shows the data points with different colors for high and low MEDV."
      ],
      "metadata": {
        "id": "khDypxMJ-T3k"
      }
    },
    {
      "cell_type": "code",
      "source": [
        "import matplotlib.pyplot as plt\n",
        "\n",
        "# Plot the predicted values versus the actual values on the test set\n",
        "plt.scatter(target_test, target_predictions)\n",
        "plt.xlabel(\"Actual Values\")\n",
        "plt.ylabel(\"Predicted Values\")\n",
        "plt.title(\"Actual versus Predicted Values\")\n",
        "plt.show()"
      ],
      "metadata": {
        "id": "SB3HHyDePwDi",
        "colab": {
          "base_uri": "https://localhost:8080/",
          "height": 472
        },
        "outputId": "16d0bf6e-f008-4ff0-9e58-6b8c49d84327"
      },
      "execution_count": 77,
      "outputs": [
        {
          "output_type": "display_data",
          "data": {
            "text/plain": [
              "<Figure size 640x480 with 1 Axes>"
            ],
            "image/png": "[encoded data removed]"
          },
          "metadata": {}
        }
      ]
    },
    {
      "cell_type": "code",
      "source": [],
      "metadata": {
        "id": "HW9CcCm8EEh5"
      },
      "execution_count": 77,
      "outputs": []
    }
  ],
  "metadata": {
    "colab": {
      "provenance": []
    },
    "kernelspec": {
      "display_name": "Python 3",
      "name": "python3"
    },
    "language_info": {
      "name": "python"
    }
  },
  "nbformat": 4,
  "nbformat_minor": 0
}